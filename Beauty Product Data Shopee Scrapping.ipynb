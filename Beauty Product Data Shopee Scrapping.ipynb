{
 "cells": [
  {
   "cell_type": "markdown",
   "metadata": {},
   "source": [
    "<h1><center>Beauty Product Data Shopee Scrapping</center></h1>"
   ]
  },
  {
   "cell_type": "markdown",
   "metadata": {},
   "source": [
    "**Hi Everyonee!!**\n",
    "\n",
    "As you know that there is plenty number information on the website. We can get the information free and also detail. But, sometimes we want to store the data in our file or want to make the data into CSV or Excel format. To do that is impossible if we do that manually, it's gonna take so much time. So to make it easier we can do the scrapping method with python using Beautifulsoup and selenium modules. \n",
    "<p> </p>\n",
    "To do that I’m going to show you step by step. But in this script, I’m assuming that you are understood basic HTML"
   ]
  },
  {
   "cell_type": "code",
   "execution_count": 5,
   "metadata": {},
   "outputs": [],
   "source": [
    "from bs4 import BeautifulSoup\n",
    "from selenium import webdriver\n",
    "import time\n",
    "from selenium.webdriver.common.keys import Keys\n",
    "import pandas as pd\n",
    "import re\n",
    "import matplotlib.pyplot as plt\n",
    "import numpy as np"
   ]
  },
  {
   "cell_type": "markdown",
   "metadata": {},
   "source": [
    "## Scraping Shopee"
   ]
  },
  {
   "cell_type": "markdown",
   "metadata": {},
   "source": [
    "### Data Scraping"
   ]
  },
  {
   "cell_type": "code",
   "execution_count": 3,
   "metadata": {},
   "outputs": [],
   "source": [
    "# First make a function to get a data from website link\n",
    "def get_element(link, jenis_class, class_name, page):\n",
    "    \n",
    "    #dont forget to install first webdriver, you can choose anything you like\n",
    "    driver = webdriver.Chrome(executable_path='chromedriver.exe')\n",
    "    driver.get(link)\n",
    "\n",
    "    #define number of scroll down you want to repeat\n",
    "    no_of_pagedowns = page\n",
    "\n",
    "    #find class of name that you want to start scorrilng\n",
    "    elem = driver.find_element_by_tag_name(\"body\")\n",
    "\n",
    "    #syntac to do scroll down\n",
    "    while no_of_pagedowns:\n",
    "        elem.send_keys(Keys.PAGE_DOWN)\n",
    "        time.sleep(0.5)\n",
    "        no_of_pagedowns-=1\n",
    "\n",
    "    html1 = driver.page_source\n",
    "\n",
    "    soup = BeautifulSoup(html1, 'lxml')\n",
    "    \n",
    "    #find the class element that you want to extract\n",
    "    # for this task im using find_all because i want to get all information for the same class name\n",
    "    element = soup.find_all(jenis_class, class_ = class_name)\n",
    "    \n",
    "    return element"
   ]
  },
  {
   "cell_type": "code",
   "execution_count": 2,
   "metadata": {},
   "outputs": [],
   "source": [
    "#Extract for only specific information from the class\n",
    "def get_data(data, jenis_class, nama_class):\n",
    "    extract = data.find(jenis_class, class_ = nama_class)\n",
    "    \n",
    "    if extract is not None:\n",
    "        extract = extract.text\n",
    "    else:\n",
    "        extract = \"\"\n",
    "    return extract"
   ]
  },
  {
   "cell_type": "code",
   "execution_count": 4,
   "metadata": {},
   "outputs": [],
   "source": [
    "def get_element_one(link, jenis_class, class_name):\n",
    "    driver = webdriver.Chrome(executable_path='chromedriver.exe')\n",
    "    driver.get(link)\n",
    "\n",
    "    no_of_pagedowns = 30\n",
    "\n",
    "    elem = driver.find_element_by_tag_name(\"body\")\n",
    "\n",
    "    while no_of_pagedowns:\n",
    "        elem.send_keys(Keys.PAGE_DOWN)\n",
    "        time.sleep(0.2)\n",
    "        no_of_pagedowns-=1\n",
    "\n",
    "    html1 = driver.page_source\n",
    "\n",
    "    soup = BeautifulSoup(html1, 'lxml')\n",
    "\n",
    "    element = soup.find(jenis_class, class_ = class_name)\n",
    "    \n",
    "    return element"
   ]
  },
  {
   "cell_type": "code",
   "execution_count": 5,
   "metadata": {},
   "outputs": [],
   "source": [
    "a = 'https://shopee.co.id/wardahofficial?page=0&sortBy=pop'"
   ]
  },
  {
   "cell_type": "code",
   "execution_count": 6,
   "metadata": {},
   "outputs": [
    {
     "name": "stderr",
     "output_type": "stream",
     "text": [
      "C:\\Users\\IDMARCO\\Anaconda3\\lib\\site-packages\\ipykernel_launcher.py:2: DeprecationWarning: executable_path has been deprecated, please pass in a Service object\n",
      "  \n",
      "C:\\Users\\IDMARCO\\Anaconda3\\lib\\site-packages\\ipykernel_launcher.py:7: DeprecationWarning: find_element_by_* commands are deprecated. Please use find_element() instead\n",
      "  import sys\n"
     ]
    },
    {
     "name": "stdout",
     "output_type": "stream",
     "text": [
      "1\n",
      "2\n",
      "3\n",
      "4\n",
      "5\n"
     ]
    }
   ],
   "source": [
    "nama_alat=[]\n",
    "harga=[]\n",
    "terjual=[]\n",
    "\n",
    "#Looping to define how many page you want to scrapping.\n",
    "for j in range (1,6):\n",
    "    #call function and input the link, class name of information and also number of scrolling down\n",
    "    alat_alat = get_element('https://shopee.co.id/wardahofficial?page='+str(j)+'&sortBy=pop',\n",
    "                            'div', 'shop-search-result-view__item col-xs-2-4', 20)\n",
    "    i=0\n",
    "    print(j)\n",
    "    \n",
    "    #Get more detail about information that we get based on previous function. \n",
    "    # In this function i want to now about the name of product, price and also total sold\n",
    "    for alat in alat_alat:\n",
    "        i=i+1\n",
    "\n",
    "        #call function to get information spesific, to do that you shold input the class name that contains information detail\n",
    "        #from previous function\n",
    "        nama_alat_input = get_data(alat,'div','_1sRyv_ _2j2K92 _3j20V6')\n",
    "        harga_input = get_data(alat,'span','_3TJGx5')\n",
    "        terjual_input = get_data(alat,'div','_2Tc7Qg')\n",
    "\n",
    "        nama_alat.append(nama_alat_input)\n",
    "        harga.append(harga_input)\n",
    "        terjual.append(terjual_input)"
   ]
  },
  {
   "cell_type": "code",
   "execution_count": 8,
   "metadata": {},
   "outputs": [],
   "source": [
    "data_web = {\"Nama\" : nama_alat,\n",
    "            \"Harga\" : harga,\n",
    "            \"terjual\":terjual}\n",
    "\n",
    "#save output as dataframe\n",
    "data_web = pd.DataFrame(data_web)"
   ]
  },
  {
   "cell_type": "code",
   "execution_count": 9,
   "metadata": {},
   "outputs": [
    {
     "data": {
      "text/html": [
       "<div>\n",
       "<style scoped>\n",
       "    .dataframe tbody tr th:only-of-type {\n",
       "        vertical-align: middle;\n",
       "    }\n",
       "\n",
       "    .dataframe tbody tr th {\n",
       "        vertical-align: top;\n",
       "    }\n",
       "\n",
       "    .dataframe thead th {\n",
       "        text-align: right;\n",
       "    }\n",
       "</style>\n",
       "<table border=\"1\" class=\"dataframe\">\n",
       "  <thead>\n",
       "    <tr style=\"text-align: right;\">\n",
       "      <th></th>\n",
       "      <th>Nama</th>\n",
       "      <th>Harga</th>\n",
       "      <th>terjual</th>\n",
       "    </tr>\n",
       "  </thead>\n",
       "  <tbody>\n",
       "    <tr>\n",
       "      <th>0</th>\n",
       "      <td>Wardah Nature Daily Aloe Hydramild Multifuncti...</td>\n",
       "      <td>34.200</td>\n",
       "      <td>10RB+ Terjual</td>\n",
       "    </tr>\n",
       "    <tr>\n",
       "      <th>1</th>\n",
       "      <td>Wardah Renew You Anti Aging Night Cream - Pele...</td>\n",
       "      <td>40.375</td>\n",
       "      <td>10RB+ Terjual</td>\n",
       "    </tr>\n",
       "    <tr>\n",
       "      <th>2</th>\n",
       "      <td>Wardah Lightening Liquid Concealer - Mencerahk...</td>\n",
       "      <td>36.000</td>\n",
       "      <td>10RB+ Terjual</td>\n",
       "    </tr>\n",
       "    <tr>\n",
       "      <th>3</th>\n",
       "      <td>Wardah Renew You Anti Aging Intensive Serum 17...</td>\n",
       "      <td>72.900</td>\n",
       "      <td>10RB+ Terjual</td>\n",
       "    </tr>\n",
       "    <tr>\n",
       "      <th>4</th>\n",
       "      <td>Wardah Colorfit Last All Day Lip Paint - Tahan...</td>\n",
       "      <td>58.500</td>\n",
       "      <td>10RB+ Terjual</td>\n",
       "    </tr>\n",
       "  </tbody>\n",
       "</table>\n",
       "</div>"
      ],
      "text/plain": [
       "                                                Nama   Harga        terjual\n",
       "0  Wardah Nature Daily Aloe Hydramild Multifuncti...  34.200  10RB+ Terjual\n",
       "1  Wardah Renew You Anti Aging Night Cream - Pele...  40.375  10RB+ Terjual\n",
       "2  Wardah Lightening Liquid Concealer - Mencerahk...  36.000  10RB+ Terjual\n",
       "3  Wardah Renew You Anti Aging Intensive Serum 17...  72.900  10RB+ Terjual\n",
       "4  Wardah Colorfit Last All Day Lip Paint - Tahan...  58.500  10RB+ Terjual"
      ]
     },
     "execution_count": 9,
     "metadata": {},
     "output_type": "execute_result"
    }
   ],
   "source": [
    "data_web.head()"
   ]
  },
  {
   "cell_type": "code",
   "execution_count": 10,
   "metadata": {},
   "outputs": [
    {
     "data": {
      "text/plain": [
       "(120, 3)"
      ]
     },
     "execution_count": 10,
     "metadata": {},
     "output_type": "execute_result"
    }
   ],
   "source": [
    "data_web.shape"
   ]
  },
  {
   "cell_type": "code",
   "execution_count": 11,
   "metadata": {},
   "outputs": [],
   "source": [
    "#save to excel\n",
    "data_web.to_excel(\"data scrappinge.xlsx\")"
   ]
  },
  {
   "cell_type": "markdown",
   "metadata": {},
   "source": [
    "Thats it so simple and practis. Only from the script above you can get any information from any website. \n",
    "<p> </p>\n",
    "In section below im going to show you a simple information of the data that i get."
   ]
  },
  {
   "cell_type": "markdown",
   "metadata": {},
   "source": [
    "## Cleaning Data"
   ]
  },
  {
   "cell_type": "code",
   "execution_count": 6,
   "metadata": {},
   "outputs": [
    {
     "data": {
      "text/html": [
       "<div>\n",
       "<style scoped>\n",
       "    .dataframe tbody tr th:only-of-type {\n",
       "        vertical-align: middle;\n",
       "    }\n",
       "\n",
       "    .dataframe tbody tr th {\n",
       "        vertical-align: top;\n",
       "    }\n",
       "\n",
       "    .dataframe thead th {\n",
       "        text-align: right;\n",
       "    }\n",
       "</style>\n",
       "<table border=\"1\" class=\"dataframe\">\n",
       "  <thead>\n",
       "    <tr style=\"text-align: right;\">\n",
       "      <th></th>\n",
       "      <th>Unnamed: 0</th>\n",
       "      <th>Nama</th>\n",
       "      <th>Harga</th>\n",
       "      <th>terjual</th>\n",
       "    </tr>\n",
       "  </thead>\n",
       "  <tbody>\n",
       "    <tr>\n",
       "      <th>0</th>\n",
       "      <td>0</td>\n",
       "      <td>Wardah Nature Daily Aloe Hydramild Multifuncti...</td>\n",
       "      <td>34.200</td>\n",
       "      <td>10RB+ Terjual</td>\n",
       "    </tr>\n",
       "    <tr>\n",
       "      <th>1</th>\n",
       "      <td>1</td>\n",
       "      <td>Wardah Renew You Anti Aging Night Cream - Pele...</td>\n",
       "      <td>40.375</td>\n",
       "      <td>10RB+ Terjual</td>\n",
       "    </tr>\n",
       "    <tr>\n",
       "      <th>2</th>\n",
       "      <td>2</td>\n",
       "      <td>Wardah Lightening Liquid Concealer - Mencerahk...</td>\n",
       "      <td>36.000</td>\n",
       "      <td>10RB+ Terjual</td>\n",
       "    </tr>\n",
       "    <tr>\n",
       "      <th>3</th>\n",
       "      <td>3</td>\n",
       "      <td>Wardah Renew You Anti Aging Intensive Serum 17...</td>\n",
       "      <td>72.900</td>\n",
       "      <td>10RB+ Terjual</td>\n",
       "    </tr>\n",
       "    <tr>\n",
       "      <th>4</th>\n",
       "      <td>4</td>\n",
       "      <td>Wardah Colorfit Last All Day Lip Paint - Tahan...</td>\n",
       "      <td>58.500</td>\n",
       "      <td>10RB+ Terjual</td>\n",
       "    </tr>\n",
       "  </tbody>\n",
       "</table>\n",
       "</div>"
      ],
      "text/plain": [
       "   Unnamed: 0                                               Nama   Harga  \\\n",
       "0           0  Wardah Nature Daily Aloe Hydramild Multifuncti...  34.200   \n",
       "1           1  Wardah Renew You Anti Aging Night Cream - Pele...  40.375   \n",
       "2           2  Wardah Lightening Liquid Concealer - Mencerahk...  36.000   \n",
       "3           3  Wardah Renew You Anti Aging Intensive Serum 17...  72.900   \n",
       "4           4  Wardah Colorfit Last All Day Lip Paint - Tahan...  58.500   \n",
       "\n",
       "         terjual  \n",
       "0  10RB+ Terjual  \n",
       "1  10RB+ Terjual  \n",
       "2  10RB+ Terjual  \n",
       "3  10RB+ Terjual  \n",
       "4  10RB+ Terjual  "
      ]
     },
     "execution_count": 6,
     "metadata": {},
     "output_type": "execute_result"
    }
   ],
   "source": [
    "data_web = pd.read_excel('data scrappinge.xlsx')\n",
    "data_web.head()"
   ]
  },
  {
   "cell_type": "code",
   "execution_count": 61,
   "metadata": {},
   "outputs": [
    {
     "data": {
      "text/plain": [
       "'FOUNDATION|PRIMER|CC CREAM|BB CREAM|TINTED MOISTURIZER|CONCEALER|EYEBROW PENCIL|EYESHADOW|EYELINER|MASCARA|LIPSTICK|TINT|LIP CREAM|MATTE|BLUSH|POWDER|LIPSTIK|LIP MOUSSE|LIP BALM|TWO WAY CAKE|PENSIL|PAINT|BROW|LIP THERAPY|FACE MIST|EYE SHADOW|HIGHLIGHTER|MICELLAR|SUN BATTLE|FACE WASH|TONER|SERUM|ESSENCE|CREAM|MOISTURIZER|MASK|SUNSCREEN|FOAM|SOOTHING GEL|CLEANSER|SPOT TREATMENT|MOISTURIZING|ACNE TREATMENT|FACIAL WASH|LIP NUTRITION|GEL|EXFOLIATOR|DEODORAN|BODY MIST|EAU DE TOILETTE|BODY SCRUB|CONDITIONER|SHAMPOO|'"
      ]
     },
     "execution_count": 61,
     "metadata": {},
     "output_type": "execute_result"
    }
   ],
   "source": [
    "product_list=[]\n",
    "make_up_list = ['Foundation', 'Primer', 'CC Cream', 'BB Cream', 'Tinted Moisturizer', 'Concealer', 'Eyebrow Pencil', \n",
    "                'Eyeshadow', 'Eyeliner', 'Mascara', 'Lipstick', 'tint', 'Lip Cream', 'Matte','Blush', 'Powder','Lipstik',\n",
    "                'LIP Mousse', 'LIP Balm', 'Two Way Cake', 'Pensil', 'Paint', 'BROW', 'Lip Therapy', 'Face Mist', 'Eye Shadow',\n",
    "               'Highlighter']\n",
    "product_list = make_up_list\n",
    "skincare_list = ['Micellar','Sun Battle','Face Wash', 'Toner', 'Serum','Essence','Cream', 'MOISTURIZER', 'Mask', \n",
    "                 'Sunscreen', 'Foam','Soothing Gel','Cleanser','SPOT Treatment','Moisturizing','Acne tREATMENT',\n",
    "                 'Facial Wash', 'Lip Nutrition', \"Gel\", \"Exfoliator\"]\n",
    "body_list = [\"Deodoran\",\"Body Mist\", \"Eau De Toilette\",\"Body Scrub\"]\n",
    "hair_list = [\"Conditioner\",\"Shampoo\",\"\"]\n",
    "product_list.extend(skincare_list)\n",
    "product_list.extend(body_list)\n",
    "product_list.extend(hair_list)\n",
    "type_product_2 = '|'.join(str(list) for list in make_up_list)\n",
    "type_product_2 = type_product_2.upper()\n",
    "type_product_2"
   ]
  },
  {
   "cell_type": "code",
   "execution_count": 62,
   "metadata": {},
   "outputs": [
    {
     "data": {
      "text/html": [
       "<div>\n",
       "<style scoped>\n",
       "    .dataframe tbody tr th:only-of-type {\n",
       "        vertical-align: middle;\n",
       "    }\n",
       "\n",
       "    .dataframe tbody tr th {\n",
       "        vertical-align: top;\n",
       "    }\n",
       "\n",
       "    .dataframe thead th {\n",
       "        text-align: right;\n",
       "    }\n",
       "</style>\n",
       "<table border=\"1\" class=\"dataframe\">\n",
       "  <thead>\n",
       "    <tr style=\"text-align: right;\">\n",
       "      <th></th>\n",
       "      <th>Unnamed: 0</th>\n",
       "      <th>Nama</th>\n",
       "      <th>Harga</th>\n",
       "      <th>terjual</th>\n",
       "      <th>type product</th>\n",
       "    </tr>\n",
       "  </thead>\n",
       "  <tbody>\n",
       "    <tr>\n",
       "      <th>0</th>\n",
       "      <td>0</td>\n",
       "      <td>Wardah Nature Daily Aloe Hydramild Multifuncti...</td>\n",
       "      <td>34.200</td>\n",
       "      <td>10RB+ Terjual</td>\n",
       "      <td>GEL</td>\n",
       "    </tr>\n",
       "    <tr>\n",
       "      <th>1</th>\n",
       "      <td>1</td>\n",
       "      <td>Wardah Renew You Anti Aging Night Cream - Pele...</td>\n",
       "      <td>40.375</td>\n",
       "      <td>10RB+ Terjual</td>\n",
       "      <td>CREAM</td>\n",
       "    </tr>\n",
       "    <tr>\n",
       "      <th>2</th>\n",
       "      <td>2</td>\n",
       "      <td>Wardah Lightening Liquid Concealer - Mencerahk...</td>\n",
       "      <td>36.000</td>\n",
       "      <td>10RB+ Terjual</td>\n",
       "      <td>CONCEALER</td>\n",
       "    </tr>\n",
       "    <tr>\n",
       "      <th>3</th>\n",
       "      <td>3</td>\n",
       "      <td>Wardah Renew You Anti Aging Intensive Serum 17...</td>\n",
       "      <td>72.900</td>\n",
       "      <td>10RB+ Terjual</td>\n",
       "      <td>SERUM,SERUM</td>\n",
       "    </tr>\n",
       "    <tr>\n",
       "      <th>4</th>\n",
       "      <td>4</td>\n",
       "      <td>Wardah Colorfit Last All Day Lip Paint - Tahan...</td>\n",
       "      <td>58.500</td>\n",
       "      <td>10RB+ Terjual</td>\n",
       "      <td>PAINT</td>\n",
       "    </tr>\n",
       "  </tbody>\n",
       "</table>\n",
       "</div>"
      ],
      "text/plain": [
       "   Unnamed: 0                                               Nama   Harga  \\\n",
       "0           0  Wardah Nature Daily Aloe Hydramild Multifuncti...  34.200   \n",
       "1           1  Wardah Renew You Anti Aging Night Cream - Pele...  40.375   \n",
       "2           2  Wardah Lightening Liquid Concealer - Mencerahk...  36.000   \n",
       "3           3  Wardah Renew You Anti Aging Intensive Serum 17...  72.900   \n",
       "4           4  Wardah Colorfit Last All Day Lip Paint - Tahan...  58.500   \n",
       "\n",
       "         terjual type product  \n",
       "0  10RB+ Terjual          GEL  \n",
       "1  10RB+ Terjual        CREAM  \n",
       "2  10RB+ Terjual    CONCEALER  \n",
       "3  10RB+ Terjual  SERUM,SERUM  \n",
       "4  10RB+ Terjual        PAINT  "
      ]
     },
     "execution_count": 62,
     "metadata": {},
     "output_type": "execute_result"
    }
   ],
   "source": [
    "data_web['type product']=data_web['Nama'].apply(lambda x: ','.join(re.findall(r'\\b'+type_product_2+'\\b', x.upper())))\n",
    "data_web.head()"
   ]
  },
  {
   "cell_type": "code",
   "execution_count": 63,
   "metadata": {},
   "outputs": [
    {
     "data": {
      "text/plain": [
       "(110, 5)"
      ]
     },
     "execution_count": 63,
     "metadata": {},
     "output_type": "execute_result"
    }
   ],
   "source": [
    "data_web=data_web[data_web['type product']!=\"\"]\n",
    "data_web['type product']=data_web['type product'].apply(lambda x: x.split(',')[0])\n",
    "data_web.shape"
   ]
  },
  {
   "cell_type": "code",
   "execution_count": 64,
   "metadata": {},
   "outputs": [],
   "source": [
    "for_lips = ['Lipstick', 'tint', 'Lip Cream', 'Matte','Lipstik', 'LIP Mousse', 'LIP Balm', 'Paint', 'Lip Therapy']\n",
    "for_lips = [x.upper() for x in for_lips]\n",
    "cleanser = ['Face Wash', 'Foam','Cleanser','Facial Wash']\n",
    "cleanser = [x.upper() for x in cleanser]\n",
    "\n",
    "for l in for_lips:\n",
    "    data_web.loc[data_web['type product']==l, 'type product 2']='LIPS'\n",
    "for c in cleanser:\n",
    "    data_web.loc[data_web['type product']==c, 'type product 2']='CLEANSER'\n",
    "    \n",
    "data_web['type product 2'].replace('EYE SHADOW', 'EYESHADOW', inplace=True)\n",
    "data_web['type product 2'].replace('Moisturizing', 'MOISTURIZER', inplace=True)"
   ]
  },
  {
   "cell_type": "code",
   "execution_count": 65,
   "metadata": {},
   "outputs": [],
   "source": [
    "data_web.loc[data_web['type product 2'].isnull()==True, 'type product 2']=data_web['type product']"
   ]
  },
  {
   "cell_type": "code",
   "execution_count": 77,
   "metadata": {},
   "outputs": [],
   "source": [
    "make_up_list = ['Foundation', 'Primer', 'CC Cream', 'BB Cream', 'Tinted Moisturizer', 'Concealer', 'Eyebrow Pencil', \n",
    "                'Eyeshadow', 'Eyeliner', 'Mascara', 'Lipstick', 'tint', 'Lip Cream', 'Matte','Blush', 'Powder','Lipstik',\n",
    "                'LIP Mousse', 'LIP Balm', 'Two Way Cake', 'Pensil', 'Paint', 'BROW', 'Lip Therapy', 'Face Mist']\n",
    "make_up_list = [x.upper() for x in make_up_list]\n",
    "skincare_list = [x.upper() for x in skincare_list]\n",
    "hair_list = [x.upper() for x in hair_list]\n",
    "body_list = [x.upper() for x in body_list]\n",
    "\n",
    "for m in make_up_list:\n",
    "        data_web.loc[data_web['type product']==m, 'type']='MAKE UP'\n",
    "for s in skincare_list:\n",
    "    data_web.loc[data_web['type product']==s, 'type']='SKINCARE'\n",
    "for h in hair_list:\n",
    "    data_web.loc[data_web['type product']==h, 'type']='HAIRCARE'\n",
    "for b in body_list:\n",
    "    data_web.loc[data_web['type product']==b, 'type']='BODYCARE'"
   ]
  },
  {
   "cell_type": "code",
   "execution_count": 78,
   "metadata": {},
   "outputs": [],
   "source": [
    "data_web['terjual 2'] = data_web['terjual'].apply(lambda x : x.split()[0])\n",
    "data_web['terjual 2'] = data_web['terjual 2'].apply(lambda x : x.split('+')[0] if len(x.split('+'))>0 else x)\n",
    "data_web['terjual 2'].replace('RB','000',regex=True, inplace=True)\n",
    "data_web['terjual 2'].replace(',','',regex=True, inplace=True)\n",
    "data_web['terjual 2'] = data_web['terjual 2'].astype(int)"
   ]
  },
  {
   "cell_type": "code",
   "execution_count": 79,
   "metadata": {},
   "outputs": [
    {
     "data": {
      "text/html": [
       "<div>\n",
       "<style scoped>\n",
       "    .dataframe tbody tr th:only-of-type {\n",
       "        vertical-align: middle;\n",
       "    }\n",
       "\n",
       "    .dataframe tbody tr th {\n",
       "        vertical-align: top;\n",
       "    }\n",
       "\n",
       "    .dataframe thead th {\n",
       "        text-align: right;\n",
       "    }\n",
       "</style>\n",
       "<table border=\"1\" class=\"dataframe\">\n",
       "  <thead>\n",
       "    <tr style=\"text-align: right;\">\n",
       "      <th></th>\n",
       "      <th>type</th>\n",
       "      <th>terjual 2</th>\n",
       "    </tr>\n",
       "  </thead>\n",
       "  <tbody>\n",
       "    <tr>\n",
       "      <th>0</th>\n",
       "      <td>BODYCARE</td>\n",
       "      <td>41000.000000</td>\n",
       "    </tr>\n",
       "    <tr>\n",
       "      <th>1</th>\n",
       "      <td>HAIRCARE</td>\n",
       "      <td>168000.000000</td>\n",
       "    </tr>\n",
       "    <tr>\n",
       "      <th>2</th>\n",
       "      <td>MAKE UP</td>\n",
       "      <td>310918.777778</td>\n",
       "    </tr>\n",
       "    <tr>\n",
       "      <th>3</th>\n",
       "      <td>SKINCARE</td>\n",
       "      <td>347137.544872</td>\n",
       "    </tr>\n",
       "  </tbody>\n",
       "</table>\n",
       "</div>"
      ],
      "text/plain": [
       "       type      terjual 2\n",
       "0  BODYCARE   41000.000000\n",
       "1  HAIRCARE  168000.000000\n",
       "2   MAKE UP  310918.777778\n",
       "3  SKINCARE  347137.544872"
      ]
     },
     "execution_count": 79,
     "metadata": {},
     "output_type": "execute_result"
    }
   ],
   "source": [
    "group = data_web[['type','type product 2','terjual 2']].groupby(['type','type product 2'], as_index=False).mean()\n",
    "group_type = group[['type','terjual 2']].groupby(['type'], as_index=False).sum()\n",
    "group_type.head()"
   ]
  },
  {
   "cell_type": "code",
   "execution_count": 80,
   "metadata": {},
   "outputs": [
    {
     "data": {
      "text/html": [
       "<div>\n",
       "<style scoped>\n",
       "    .dataframe tbody tr th:only-of-type {\n",
       "        vertical-align: middle;\n",
       "    }\n",
       "\n",
       "    .dataframe tbody tr th {\n",
       "        vertical-align: top;\n",
       "    }\n",
       "\n",
       "    .dataframe thead th {\n",
       "        text-align: right;\n",
       "    }\n",
       "</style>\n",
       "<table border=\"1\" class=\"dataframe\">\n",
       "  <thead>\n",
       "    <tr style=\"text-align: right;\">\n",
       "      <th></th>\n",
       "      <th>type</th>\n",
       "      <th>type product 2</th>\n",
       "      <th>terjual 2</th>\n",
       "    </tr>\n",
       "  </thead>\n",
       "  <tbody>\n",
       "    <tr>\n",
       "      <th>0</th>\n",
       "      <td>BODYCARE</td>\n",
       "      <td>BODY MIST</td>\n",
       "      <td>10000.0</td>\n",
       "    </tr>\n",
       "    <tr>\n",
       "      <th>1</th>\n",
       "      <td>BODYCARE</td>\n",
       "      <td>BODY SCRUB</td>\n",
       "      <td>11000.0</td>\n",
       "    </tr>\n",
       "    <tr>\n",
       "      <th>2</th>\n",
       "      <td>BODYCARE</td>\n",
       "      <td>DEODORAN</td>\n",
       "      <td>10000.0</td>\n",
       "    </tr>\n",
       "    <tr>\n",
       "      <th>3</th>\n",
       "      <td>BODYCARE</td>\n",
       "      <td>EAU DE TOILETTE</td>\n",
       "      <td>10000.0</td>\n",
       "    </tr>\n",
       "    <tr>\n",
       "      <th>4</th>\n",
       "      <td>HAIRCARE</td>\n",
       "      <td>CONDITIONER</td>\n",
       "      <td>93000.0</td>\n",
       "    </tr>\n",
       "  </tbody>\n",
       "</table>\n",
       "</div>"
      ],
      "text/plain": [
       "       type   type product 2  terjual 2\n",
       "0  BODYCARE        BODY MIST    10000.0\n",
       "1  BODYCARE       BODY SCRUB    11000.0\n",
       "2  BODYCARE         DEODORAN    10000.0\n",
       "3  BODYCARE  EAU DE TOILETTE    10000.0\n",
       "4  HAIRCARE      CONDITIONER    93000.0"
      ]
     },
     "execution_count": 80,
     "metadata": {},
     "output_type": "execute_result"
    }
   ],
   "source": [
    "group.head()"
   ]
  },
  {
   "cell_type": "markdown",
   "metadata": {},
   "source": [
    "## Nested Pie Chart"
   ]
  },
  {
   "cell_type": "code",
   "execution_count": 246,
   "metadata": {},
   "outputs": [
    {
     "data": {
      "image/png": "[encoded data removed]",
      "text/plain": [
       "<Figure size 432x288 with 1 Axes>"
      ]
     },
     "metadata": {},
     "output_type": "display_data"
    }
   ],
   "source": [
    "fig1 = plt.figure()\n",
    "ax = fig1.add_axes([0, 0, 3, 2])\n",
    "\n",
    "def my_autopct(pct):\n",
    "    return ('%1.1f%%' % pct) if pct > 3 else ''\n",
    "\n",
    "size = 0.3\n",
    "\n",
    "cmap = plt.get_cmap(\"viridis\")\n",
    "\n",
    "outer_colors = cmap(np.array([1,100,150,350]))\n",
    "inner_colors = cmap(np.array([15,30,45,60,\n",
    "                              110, 120, \n",
    "                              155,160,165,170,175,180,185,190,200,205,210,215,\n",
    "                              230,235,240,245,250,260,270,280,290,295,300,305,310]))\n",
    "\n",
    "_, _, autotexts = ax.pie(group_type['terjual 2'], radius=1, colors=outer_colors,labels=group_type['type'], autopct='%1.1f%%', \n",
    "                         pctdistance=0.85, wedgeprops=dict(width=size, edgecolor='w'), \n",
    "                         textprops={'fontsize': 12, 'color': 'black', 'fontweight':'bold'})\n",
    "for ins in autotexts:\n",
    "        ins.set_color('white')\n",
    "\n",
    "wedges, texts, autotexts = ax.pie(group['terjual 2'], radius=1-size, colors=inner_colors, autopct=my_autopct,\n",
    "                                  textprops={'fontsize': 8, 'color': 'white', 'fontweight':'bold'}, pctdistance=0.85, \n",
    "                                  wedgeprops=dict(width=size, edgecolor='w'))\n",
    "\n",
    "ax.set_title('Nested Pie Chart', size=15, fontweight='bold')\n",
    "ax.legend(wedges, group['type product 2'], title=\"type product\", loc=\"center left\", bbox_to_anchor=[1.2,0,0.5,1])\n",
    "plt.tight_layout()\n",
    "plt.show()"
   ]
  }
 ],
 "metadata": {
  "kernelspec": {
   "display_name": "Python 3 (ipykernel)",
   "language": "python",
   "name": "python3"
  },
  "language_info": {
   "codemirror_mode": {
    "name": "ipython",
    "version": 3
   },
   "file_extension": ".py",
   "mimetype": "text/x-python",
   "name": "python",
   "nbconvert_exporter": "python",
   "pygments_lexer": "ipython3",
   "version": "3.9.13"
  }
 },
 "nbformat": 4,
 "nbformat_minor": 2
}
